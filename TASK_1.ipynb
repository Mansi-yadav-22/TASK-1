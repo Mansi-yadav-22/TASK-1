{
  "nbformat": 4,
  "nbformat_minor": 0,
  "metadata": {
    "colab": {
      "provenance": []
    },
    "kernelspec": {
      "name": "python3",
      "display_name": "Python 3"
    },
    "language_info": {
      "name": "python"
    }
  },
  "cells": [
    {
      "cell_type": "code",
      "source": [
        "def celsius_to_fahrenheit(celsius):\n",
        "  return (celsius * 9/5) + 32\n",
        "\n",
        "def celsius_to_kelvin(celsius):\n",
        "  return celsius + 273.15\n",
        "\n",
        "def fahrenheit_to_celsius(fahrenheit):\n",
        "  return (fahrenheit - 32) * 5/9\n",
        "\n",
        "def fahrenheit_to_kelvin(fahrenheit):\n",
        "  return (fahrenheit - 32) * 5/9 + 273.15\n",
        "\n",
        "def kelvin_to_celsius(kelvin):\n",
        "  return kelvin - 273.15\n",
        "\n",
        "def kelvin_to_fahrenheit(kelvin):\n",
        "  return (kelvin - 273.15) * 9/5 + 32\n",
        "\n",
        "temp = float(input(\"Enter temperature value: \"))\n",
        "unit = input(\"Enter unit (C for Celsius, F for Fahrenheit, K for Kelvin): \").upper()\n",
        "\n",
        "if unit == 'C':\n",
        "  fahrenheit = celsius_to_fahrenheit(temp)\n",
        "  kelvin = celsius_to_kelvin(temp)\n",
        "  print(f\"{temp} degrees Celsius is equal to:\")\n",
        "  print(f\"{fahrenheit:.2f} degrees Fahrenheit\")\n",
        "  print(f\"{kelvin:.2f} Kelvin\")\n",
        "elif unit == 'F':\n",
        "      celsius = fahrenheit_to_celsius(temp)\n",
        "      kelvin = fahrenheit_to_kelvin(temp)\n",
        "      print(f\"{temp} degrees fahrenheit is equal to:\")\n",
        "      print(f\"{celsius:.2f} degrees celsius\")\n",
        "      print(f\"{kelvin:.2f} Kelvin\")\n",
        "elif unit == 'K':\n",
        "      celsius = kelvin_to_celsius(temp)\n",
        "      fahrenheit = kelvin_to_fahrenheit(temp)\n",
        "      print(f\"{temp} Kelvin is equal to:\")\n",
        "      print(f\"{celsius:.2f} degrees Celsius\")\n",
        "      print(f\"{fahrenheit:.2f} degrees Fahrenheit\")\n",
        "else:\n",
        "      print(\"Invalid unit. Please enter C, F, or K.\")\n",
        "\n"
      ],
      "metadata": {
        "colab": {
          "base_uri": "https://localhost:8080/"
        },
        "id": "tIL7gEpCvo7X",
        "outputId": "0c572f11-1c6b-4849-b2ad-f177cbdc9aaa"
      },
      "execution_count": 3,
      "outputs": [
        {
          "output_type": "stream",
          "name": "stdout",
          "text": [
            "Enter temperature value: 25\n",
            "Enter unit (C for Celsius, F for Fahrenheit, K for Kelvin): C\n",
            "25.0 degrees Celsius is equal to:\n",
            "77.00 degrees Fahrenheit\n",
            "298.15 Kelvin\n"
          ]
        }
      ]
    }
  ]
}